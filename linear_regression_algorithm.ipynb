{
 "cells": [
  {
   "cell_type": "code",
   "execution_count": 3,
   "metadata": {},
   "outputs": [],
   "source": [
    "import pandas as pd\n",
    "import numpy as np\n",
    "import seaborn as sns\n",
    "import matplotlib.pyplot as plt\n",
    "import math\n",
    "from numpy import random\n",
    "from sklearn.preprocessing import StandardScaler\n",
    "from scipy import stats\n",
    "from sklearn.metrics import r2_score, mean_squared_error\n",
    "cleandata = pd.read_csv(\"data5.csv\")\n",
    "oridata = pd.read_csv(\"data3.csv\")"
   ]
  },
  {
   "cell_type": "code",
   "execution_count": 4,
   "metadata": {},
   "outputs": [],
   "source": [
    "## delete outliers\n",
    "cleandata = cleandata.drop(oridata[(oridata['TotalBsmtSF']>5000)].index)\n",
    "#cleandata = cleandata.drop(oridata[(oridata['BsmtFinSF1']>5000)].index)\n",
    "cleandata = cleandata.drop(oridata[(oridata['BsmtFinType2']==1) & (oridata['SalePrice']>500000)].index)"
   ]
  },
  {
   "cell_type": "code",
   "execution_count": 5,
   "metadata": {},
   "outputs": [],
   "source": [
    "num_list=['LotFrontage','LotArea','YearBuilt','YearRemodAdd','MasVnrArea','BsmtFinSF1','BsmtFinSF2', 'BsmtUnfSF', 'TotalBsmtSF', '2ndFlrSF', \n",
    "'LowQualFinSF', 'BsmtFullBath', 'BsmtHalfBath', 'FullBath', 'HalfBath', 'BedroomAbvGr', 'KitchenAbvGr', 'TotRmsAbvGrd', 'Fireplaces',\n",
    "'GarageCars', 'GarageArea', 'WoodDeckSF', 'OpenPorchSF', 'EnclosedPorch', '3SsnPorch', 'ScreenPorch', 'PoolArea', 'MiscVal',\n",
    "  'MoSold', 'YrSold']\n",
    "ordi_list = ['OverallQual', 'OverallCond','ExterQual','ExterCond','BsmtQual','BsmtCond','BsmtExposure','BsmtFinType1',\n",
    "'BsmtFinType2','HeatingQC','KitchenQual','Functional','GarageFinish','GarageQual',\n",
    "'PavedDrive','Fence']\n",
    "\n",
    "col_list = list(cleandata.columns)\n",
    "col_list.remove('SalePrice') \n",
    "numdata = cleandata[col_list]\n",
    "output = cleandata['SalePrice']\n",
    "x_all = numdata.to_numpy()\n",
    "y_all = output.to_numpy()"
   ]
  },
  {
   "cell_type": "code",
   "execution_count": 6,
   "metadata": {},
   "outputs": [
    {
     "name": "stdout",
     "output_type": "stream",
     "text": [
      "932\n"
     ]
    }
   ],
   "source": [
    "## split training testing and validation set\n",
    "from sklearn.model_selection import train_test_split\n",
    "x,x_test,y,y_test = train_test_split(x_all,y_all,train_size = 0.8)\n",
    "x,x_valid,y,y_valid = train_test_split(x,y,train_size = 0.8)\n",
    "print(x.shape[0])"
   ]
  },
  {
   "cell_type": "code",
   "execution_count": 7,
   "metadata": {
    "collapsed": true
   },
   "outputs": [
    {
     "data": {
      "image/png": "[encoded data removed]",
      "text/plain": [
       "<Figure size 432x288 with 3 Axes>"
      ]
     },
     "metadata": {
      "needs_background": "light"
     },
     "output_type": "display_data"
    }
   ],
   "source": [
    "## setting parameters \n",
    "featurenum = x.shape[1]\n",
    "datanum = x.shape[0]\n",
    "alpha = 0.05\n",
    "theta = random.rand(featurenum)\n",
    "bias = random.rand(1)\n",
    "theta_new = np.zeros(featurenum)\n",
    "bias_new = 0\n",
    "iteration = 50\n",
    "train_num = x.shape[0]\n",
    "test_num = x_test.shape[0]\n",
    "valid_num = x_valid.shape[0]\n",
    "lossvalue = np.zeros(iteration)\n",
    "validlossvalue = np.zeros(iteration)\n",
    "rmse = np.zeros(iteration)\n",
    "r2 = np.zeros(iteration)\n",
    "\n",
    "## batch gradient descent\n",
    "for k in range(iteration):\n",
    "    loss = 0\n",
    "    valid_loss = 0\n",
    "    \n",
    "    ## update regression coefficient\n",
    "    for j in range(featurenum):\n",
    "        grad_theta = 0\n",
    "        grad_bias = 0\n",
    "        for i in range(train_num):\n",
    "            grad_theta = grad_theta + (2/train_num)*(y[i] - (np.dot(theta,x[i]) + bias))*x[i,j]\n",
    "        theta_new[j] = theta[j] + alpha*grad_theta\n",
    "        \n",
    "    grad_bias = 0\n",
    "    for i in range(train_num):\n",
    "        grad_bias = grad_bias + (2/train_num)*(y[i] - (np.dot(theta,x[i]) + bias))\n",
    "    bias_new = bias + alpha*grad_bias\n",
    "    \n",
    "    ## update traiining loss and validation loss\n",
    "    for i in range(train_num):\n",
    "        loss = math.sqrt(pow(loss,2) + pow(y[i] - np.dot(theta,x[i]),2))\n",
    "        \n",
    "    for i in range(valid_num):\n",
    "        valid_loss = math.sqrt(pow(valid_loss,2) + pow(y_valid[i] - (np.dot(theta,x_valid[i]) + bias),2))\n",
    "        \n",
    "    theta = theta_new \n",
    "    bias = bias_new\n",
    "\n",
    "    lossvalue[k] = loss\n",
    "    validlossvalue[k] = valid_loss\n",
    "    \n",
    "    ## compute r-squared and RMSE\n",
    "    y_hat = np.zeros(test_num)\n",
    "    for i in range(test_num):\n",
    "        y_hat[i] = np.dot(theta,x_test[i]) + bias\n",
    "    r2[k] = r2_score(y_test, y_hat)\n",
    "    rmse[k] = mean_squared_error(y_test, y_hat, squared = False)\n",
    "\n",
    "## draw training loss and validation loss curve\n",
    "fig, (ax1, ax2, ax3) = plt.subplots(3, 1)\n",
    "x1_axis = np.linspace(1, iteration, iteration-1)\n",
    "ax1.plot(x1_axis, lossvalue[1:iteration], label='train loss')\n",
    "x2_axis = np.linspace(1, iteration, iteration-1)\n",
    "ax1.plot(x1_axis, validlossvalue[1:iteration], label='valid loss')\n",
    "ax1.legend()\n",
    "plt.tight_layout()\n",
    "\n",
    "## draw RMSE curve\n",
    "ax2.plot(x2_axis, rmse[1:iteration], label='RMSE')\n",
    "ax2.ticklabel_format(axis='y', style=\"sci\", scilimits=(0,0))\n",
    "plt.tight_layout()\n",
    "\n",
    "## draw r-squared cvuve\n",
    "x3_axis = np.linspace(1, iteration, iteration-1)\n",
    "ax3.plot(x3_axis, r2[1:iteration], label='r2 score')\n",
    "plt.tight_layout()\n",
    "\n",
    "ax1.title.set_text('Training Loss and Validation Loss')\n",
    "ax2.title.set_text('RMSE')\n",
    "ax3.title.set_text('R2')\n",
    "plt.savefig('train_validation_error.jpg')\n",
    "#50"
   ]
  },
  {
   "cell_type": "code",
   "execution_count": null,
   "metadata": {},
   "outputs": [],
   "source": []
  }
 ],
 "metadata": {
  "kernelspec": {
   "display_name": "Python 3",
   "language": "python",
   "name": "python3"
  },
  "language_info": {
   "codemirror_mode": {
    "name": "ipython",
    "version": 3
   },
   "file_extension": ".py",
   "mimetype": "text/x-python",
   "name": "python",
   "nbconvert_exporter": "python",
   "pygments_lexer": "ipython3",
   "version": "3.8.3"
  }
 },
 "nbformat": 4,
 "nbformat_minor": 4
}
