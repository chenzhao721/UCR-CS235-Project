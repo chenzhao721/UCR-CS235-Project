{
 "cells": [
  {
   "cell_type": "code",
   "execution_count": 2,
   "metadata": {},
   "outputs": [],
   "source": [
    "import pandas as pd \n",
    "import numpy as np \n",
    "import matplotlib.pyplot as plt\n",
    "import seaborn as sns\n",
    "from sklearn.impute import SimpleImputer\n",
    "from sklearn.preprocessing import OrdinalEncoder,StandardScaler,MinMaxScaler"
   ]
  },
  {
   "cell_type": "code",
   "execution_count": 3,
   "metadata": {
    "collapsed": true
   },
   "outputs": [
    {
     "data": {
      "text/plain": [
       "count      1460.000000\n",
       "mean     180921.195890\n",
       "std       79442.502883\n",
       "min       34900.000000\n",
       "25%      129975.000000\n",
       "50%      163000.000000\n",
       "75%      214000.000000\n",
       "max      755000.000000\n",
       "Name: SalePrice, dtype: float64"
      ]
     },
     "execution_count": 3,
     "metadata": {},
     "output_type": "execute_result"
    }
   ],
   "source": [
    "##############################################\n",
    "# statistics summary of 'SalePrice'\n",
    "################################################\n",
    "data = pd.read_csv(\"train.csv\")\n",
    "data['SalePrice'].describe()"
   ]
  },
  {
   "cell_type": "code",
   "execution_count": 32,
   "metadata": {},
   "outputs": [],
   "source": [
    "#################################################################################\n",
    "# Relationship between 'Saleprice' and numerical features\n",
    "################################################################################\n",
    "cleandata = pd.read_csv(\"data3.csv\")\n",
    "num_list=['LotFrontage','LotArea','YearBuilt','YearRemodAdd','MasVnrArea','BsmtFinSF1','BsmtFinSF2', 'BsmtUnfSF', 'TotalBsmtSF', '2ndFlrSF', \n",
    "'LowQualFinSF', 'BsmtFullBath', 'BsmtHalfBath', 'FullBath', 'HalfBath', 'BedroomAbvGr', 'KitchenAbvGr', 'TotRmsAbvGrd', 'Fireplaces',\n",
    "'GarageCars', 'GarageArea', 'WoodDeckSF', 'OpenPorchSF', 'EnclosedPorch', '3SsnPorch', 'ScreenPorch', 'PoolArea', 'MiscVal',\n",
    "  'MoSold', 'YrSold']\n",
    "\n",
    "for i in num_list:\n",
    "    fig = sns.jointplot(data = cleandata[[i,'SalePrice']], x = i, y = \"SalePrice\")\n",
    "    plt.savefig(i+'_Saleprice.jpg')  \n",
    "\n",
    "plt.close(\"all\")"
   ]
  },
  {
   "cell_type": "code",
   "execution_count": 27,
   "metadata": {},
   "outputs": [],
   "source": [
    "################################################################################\n",
    "# Relationship between 'Saleprice' and ordinal features\n",
    "#################################################################################\n",
    "ordi_list = ['OverallQual', 'OverallCond','ExterQual','ExterCond','BsmtQual','BsmtCond','BsmtExposure','BsmtFinType1',\n",
    "'BsmtFinType2','HeatingQC','KitchenQual','Functional','GarageFinish','GarageQual','PavedDrive','Fence']\n",
    "\n",
    "for i in ordi_list:\n",
    "    fig = sns.boxplot(data = cleandata[[i,'SalePrice']], x = i, y = \"SalePrice\")\n",
    "    plt.savefig(i+'_Saleprice.jpg')\n",
    "    plt.close('all')"
   ]
  },
  {
   "cell_type": "code",
   "execution_count": 36,
   "metadata": {},
   "outputs": [],
   "source": [
    "################################################################################\n",
    "# Relationship between 'Saleprice' and categorical features\n",
    "#################################################################################\n",
    "cate_list = ['MSZoning','Street', 'Alley', 'LotShape', 'LandContour', 'Utilities', 'LotConfig', 'LandSlope', 'Neighborhood', 'Condition1',\n",
    "              'Condition2', 'BldgType', 'HouseStyle', 'RoofStyle', 'RoofMatl', 'Exterior1st', 'Exterior2nd', 'MasVnrType', 'Foundation', 'Heating', \n",
    "              'CentralAir', 'Electrical', 'GarageType', 'MiscFeature', 'SaleType', 'SaleCondition']\n",
    "\n",
    "for i in cate_list:\n",
    "    fig = sns.boxplot(data = cleandata[[i,'SalePrice']], x = i, y = \"SalePrice\")\n",
    "    plt.savefig(i+'_Saleprice.jpg')\n",
    "    plt.close('all')"
   ]
  }
 ],
 "metadata": {
  "kernelspec": {
   "display_name": "Python 3",
   "language": "python",
   "name": "python3"
  },
  "language_info": {
   "codemirror_mode": {
    "name": "ipython",
    "version": 3
   },
   "file_extension": ".py",
   "mimetype": "text/x-python",
   "name": "python",
   "nbconvert_exporter": "python",
   "pygments_lexer": "ipython3",
   "version": "3.8.3"
  }
 },
 "nbformat": 4,
 "nbformat_minor": 4
}
